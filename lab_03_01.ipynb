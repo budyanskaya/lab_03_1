{
  "nbformat": 4,
  "nbformat_minor": 0,
  "metadata": {
    "colab": {
      "provenance": []
    },
    "kernelspec": {
      "name": "python3",
      "display_name": "Python 3"
    },
    "language_info": {
      "name": "python"
    }
  },
  "cells": [
    {
      "cell_type": "code",
      "execution_count": null,
      "metadata": {
        "colab": {
          "base_uri": "https://localhost:8080/"
        },
        "id": "18d-ggmOQUFV",
        "outputId": "5a6c687a-e7a4-4409-c70f-858e54d2cefe"
      },
      "outputs": [
        {
          "output_type": "stream",
          "name": "stdout",
          "text": [
            "акитамрофни-сензиб\n"
          ]
        }
      ],
      "source": [
        "#№ 3.1.1 Напишите функцию, которая принимает строку и возвращает её в перевернутом виде, не используя циклы\n",
        "def reverse_string(s):\n",
        "    return s[::-1]\n",
        "print(reverse_string(\"бизнес-информатика\"))"
      ]
    },
    {
      "cell_type": "code",
      "source": [
        "# № 3.1.2 Напишите функцию, которая извлекает доменное имя из адреса электронной почты.\n",
        "def extract_domain(email):\n",
        "    \"\"\"Извлекает доменное имя из адреса электронной почты.\"\"\"\n",
        "    return email.split('@')[1]\n",
        "\n",
        "\n",
        "# Примеры использования\n",
        "print(extract_domain(\"user@example.com\"))  # example.com\n",
        "print(extract_domain(\"student@university.edu\"))  # university.edu\n",
        "print(extract_domain(\"name@sub.domain.org\"))  # sub.domain.org"
      ],
      "metadata": {
        "colab": {
          "base_uri": "https://localhost:8080/"
        },
        "id": "1TgY8a_fRwkA",
        "outputId": "aaad23ca-4400-4ba5-88ac-b1e39c2b2460"
      },
      "execution_count": null,
      "outputs": [
        {
          "output_type": "stream",
          "name": "stdout",
          "text": [
            "example.com\n",
            "university.edu\n",
            "sub.domain.org\n"
          ]
        }
      ]
    },
    {
      "cell_type": "code",
      "source": [
        "# № 3.1.3 Напишите функцию для подсчета количества слов в предложении. Cлова разделены одним или несколькими пробелами. Знаки препинания не учитывать.\n",
        "def count_words(sentence):\n",
        "    \"\"\"Подсчитать количество слов в предложении 'sentence'.\"\"\"\n",
        "    # Удаляем знаки препинания и разбиваем на слова\n",
        "    cleaned_sentence = ''.join(char for char in sentence if char.isalnum() or char.isspace())\n",
        "    words = cleaned_sentence.split()\n",
        "    return len(words)\n",
        "\n",
        "\n",
        "text = \"  Это пример   предложения для подсчета слов!  \"\n",
        "print(count_words(text))\n"
      ],
      "metadata": {
        "colab": {
          "base_uri": "https://localhost:8080/"
        },
        "id": "zX1BfhkKTiDf",
        "outputId": "0642a779-80a2-419d-ed03-004b99d36045"
      },
      "execution_count": null,
      "outputs": [
        {
          "output_type": "stream",
          "name": "stdout",
          "text": [
            "6\n"
          ]
        }
      ]
    },
    {
      "cell_type": "code",
      "source": [
        "# № 3.1.4 Напишите функцию, которая принимает список и возвращает новый список, содержащий только уникальные элементы из исходного.\n",
        "def get_unique_elements(input_list):\n",
        "    \"\"\"Вернуть список с уникальными элементами из 'input_list'.\"\"\"\n",
        "    return list(set(input_list))\n",
        "\n",
        "my_list = [1, 2, 3, 2, 4, 3, 5, 1]\n",
        "print(get_unique_elements(my_list))\n"
      ],
      "metadata": {
        "colab": {
          "base_uri": "https://localhost:8080/"
        },
        "id": "2Dz0zJJ3Wj6I",
        "outputId": "ebdca6fa-f428-41fd-82d5-23e162845d49"
      },
      "execution_count": null,
      "outputs": [
        {
          "output_type": "stream",
          "name": "stdout",
          "text": [
            "[1, 2, 3, 4, 5]\n"
          ]
        }
      ]
    },
    {
      "cell_type": "code",
      "source": [
        "# № 3.1.5 Напишите функцию, которая проверяет, является ли строка палиндромом (читается одинаково в обоих направлениях), игнорируя регистр и пробелы.\n",
        "def is_palindrome(s):\n",
        "    \"\"\"Проверить, является ли строка 's' палиндромом.\"\"\"\n",
        "    # Приводим к нижнему регистру и удаляем пробелы\n",
        "    cleaned = ''.join(s.lower().split())\n",
        "    # Сравниваем строку с перевернутой\n",
        "    return cleaned == cleaned[::-1]\n",
        "\n",
        "\n",
        "print(is_palindrome(\"А роза упала на лапу Азора\"))\n",
        "print(is_palindrome(\"Привет мир\"))"
      ],
      "metadata": {
        "colab": {
          "base_uri": "https://localhost:8080/"
        },
        "id": "Y1IGSFFIXA2Q",
        "outputId": "ff5b6a6e-2e71-4444-9d27-1489e39ac690"
      },
      "execution_count": null,
      "outputs": [
        {
          "output_type": "stream",
          "name": "stdout",
          "text": [
            "True\n",
            "False\n"
          ]
        }
      ]
    },
    {
      "cell_type": "code",
      "source": [
        "# № 3.1.6 В компании принят формат кода товара: три буквы, дефис, три цифры, дефис, две буквы (например, XYZ-123-AB). Напишите функцию, которая форматирует строку вида xyz123ab в нужный формат.\n",
        "def format_product_code(code):\n",
        "    \"\"\"Отформатировать код товара 'code'.\"\"\"\n",
        "    # Приводим к верхнему регистру и разбиваем на части\n",
        "    code_upper = code.upper()\n",
        "    part1 = code_upper[:3]  # первые 3 буквы\n",
        "    part2 = code_upper[3:6] # следующие 3 цифры\n",
        "    part3 = code_upper[6:]  # последние 2 буквы\n",
        "    # Собираем с дефисами\n",
        "    return f\"{part1}-{part2}-{part3}\"\n",
        "\n",
        "\n",
        "print(format_product_code(\"xyz123ab\"))"
      ],
      "metadata": {
        "colab": {
          "base_uri": "https://localhost:8080/"
        },
        "id": "sm2R8oBHX7fJ",
        "outputId": "96079df2-8459-4172-d847-4d37470b3bc4"
      },
      "execution_count": null,
      "outputs": [
        {
          "output_type": "stream",
          "name": "stdout",
          "text": [
            "XYZ-123-AB\n"
          ]
        }
      ]
    },
    {
      "cell_type": "code",
      "source": [
        "# № 3.1.7 Напишите функцию, которая принимает список чисел и возвращает их среднее арифметическое.\n",
        "def calculate_average(numbers):\n",
        "    \"\"\"Вычислить среднее арифметическое для списка 'numbers'..\"\"\"\n",
        "    if not numbers:  # Проверка на пустой список\n",
        "        return 0.0\n",
        "    return sum(numbers) / len(numbers)\n",
        "\n",
        "\n",
        "my_numbers = [10, 20, 30, 40, 50]\n",
        "print(f\"{calculate_average(my_numbers):.2f}\")"
      ],
      "metadata": {
        "colab": {
          "base_uri": "https://localhost:8080/"
        },
        "id": "-vNiKVKlbdfa",
        "outputId": "4de264ae-5917-445e-a095-2badbff9dab6"
      },
      "execution_count": null,
      "outputs": [
        {
          "output_type": "stream",
          "name": "stdout",
          "text": [
            "30.00\n"
          ]
        }
      ]
    },
    {
      "cell_type": "code",
      "source": [
        "# № 3.1.8 Напишите функцию, которая принимает текст и список \"стоп-слов\". Функция должна заменять все стоп-слова в тексте на символ *.\n",
        "def censor_text(text, stop_words):\n",
        "    \"\"\"Заменить стоп-слова в тексте 'text' на '*'..\"\"\"\n",
        "    words = text.split()\n",
        "    # Обрабатываем каждое слово\n",
        "    processed_words = []\n",
        "    for word in words:\n",
        "        # Проверяем, является ли слово стоп-словом\n",
        "        if word.lower() in [stop_word.lower() for stop_word in stop_words]:\n",
        "            processed_words.append('*')\n",
        "        else:\n",
        "            processed_words.append(word)\n",
        "    return ' '.join(processed_words)\n",
        "\n",
        "\n",
        "text = \"Этот плохой пример содержит плохие слова.\"\n",
        "stop_list = [\"плохой\", \"плохие\"]\n",
        "print(censor_text(text, stop_list))"
      ],
      "metadata": {
        "colab": {
          "base_uri": "https://localhost:8080/"
        },
        "id": "RsAHoPg1tlZe",
        "outputId": "d01b1f71-9e8b-4bb9-fe37-bccaffaff3f5"
      },
      "execution_count": null,
      "outputs": [
        {
          "output_type": "stream",
          "name": "stdout",
          "text": [
            "Этот * пример содержит * слова.\n"
          ]
        }
      ]
    },
    {
      "cell_type": "code",
      "source": [
        "# 3.1.9 Напишите функцию для генерации корпоративного email-адреса. Она должна принимать имя и фамилию, преобразовывать их в формат i.ivanov@company.com.\n",
        "def generate_corporate_email(first_name, last_name):\n",
        "    \"\"\"Сгенерировать email из имени 'first_name' и фамилии 'last_name'.\"\"\"\n",
        "    first_initial = first_name[0].lower()\n",
        "    last_name_lower = last_name.lower()\n",
        "\n",
        "    # Формируем email\n",
        "    email = f\"{first_initial}.{last_name_lower}@company.com\"\n",
        "\n",
        "    return email\n",
        "\n",
        "\n",
        "print(generate_corporate_email(\"Иван\", \"Петров\"))"
      ],
      "metadata": {
        "colab": {
          "base_uri": "https://localhost:8080/"
        },
        "id": "YnKWzjUsuLNF",
        "outputId": "8ff2fb5f-4b62-4537-da54-358a17ceff0c"
      },
      "execution_count": null,
      "outputs": [
        {
          "output_type": "stream",
          "name": "stdout",
          "text": [
            "и.петров@company.com\n"
          ]
        }
      ]
    },
    {
      "cell_type": "code",
      "source": [
        "# 3.1.10 Напишите функцию, которая принимает список строк и возвращает новый список, содержащий только те строки, длина которых больше 5 символов.\n",
        "def filter_long_strings(strings):\n",
        "    \"\"\"Отфильтровать строки из списка 'strings' по длине (> 5).\"\"\"\n",
        "    result = []\n",
        "\n",
        "    # Проходим по всем строкам в исходном списке\n",
        "    for string in strings:\n",
        "        # Проверяем длину строки\n",
        "        if len(string) > 5:\n",
        "            result.append(string)\n",
        "\n",
        "    return result\n",
        "word_list = [\"аналитика\", \"данные\", \"отчет\", \"бизнес\", \"план\", \"модель\"]\n",
        "print(filter_long_strings(word_list))"
      ],
      "metadata": {
        "colab": {
          "base_uri": "https://localhost:8080/"
        },
        "id": "iq05iXJnumIw",
        "outputId": "4ee28973-d84a-40d5-8b80-84348ae19206"
      },
      "execution_count": null,
      "outputs": [
        {
          "output_type": "stream",
          "name": "stdout",
          "text": [
            "['аналитика', 'данные', 'бизнес', 'модель']\n"
          ]
        }
      ]
    },
    {
      "cell_type": "code",
      "source": [
        "# № 3.1.11 Напишите функцию, которая создает акроним (аббревиатуру) из фразы. Например, из \"Key Performance Indicator\" должно получиться \"KPI\".\n",
        "def create_acronym(phrase):\n",
        "    \"\"\"Создать акроним из фразы 'phrase'.\"\"\"\n",
        "    words = phrase.split()\n",
        "\n",
        "    # Создаем акроним из первых букв каждого слова\n",
        "    acronym = ''\n",
        "    for word in words:\n",
        "        acronym += word[0].upper()\n",
        "\n",
        "    return acronym\n",
        "\n",
        "print(create_acronym(\"Key Performance Indicator\"))\n",
        "print(create_acronym(\"business process modeling notation\"))"
      ],
      "metadata": {
        "colab": {
          "base_uri": "https://localhost:8080/"
        },
        "id": "YkysF5Exu7MP",
        "outputId": "8744db1f-665e-49df-c47d-cbf7d9e8f060"
      },
      "execution_count": null,
      "outputs": [
        {
          "output_type": "stream",
          "name": "stdout",
          "text": [
            "KPI\n",
            "BPMN\n"
          ]
        }
      ]
    },
    {
      "cell_type": "code",
      "source": [
        "# № 3.1.12 Напишите функцию для форматирования телефонного номера. Она должна принимать строку из 11 цифр (например, 89211234567) и возвращать ее в формате +7 (921) 123-45-67.\n",
        "def format_phone_number(phone):\n",
        "    \"\"\"Отформатировать телефонный номер 'phone'.\"\"\"\n",
        "\n",
        "    # Проверяем, что номер состоит из 11 цифр\n",
        "    if len(phone) != 11 or not phone.isdigit():\n",
        "        return \"Неверный формат номера\"\n",
        "\n",
        "    # Разбиваем номер на части\n",
        "    country_code = \"+7\"\n",
        "    operator_code = phone[1:4]\n",
        "    part1 = phone[4:7]\n",
        "    part2 = phone[7:9]\n",
        "    part3 = phone[9:11]\n",
        "\n",
        "    # Форматируем номер\n",
        "    formatted_phone = f\"{country_code} ({operator_code}) {part1}-{part2}-{part3}\"\n",
        "\n",
        "    return formatted_phone\n",
        "\n",
        "\n",
        "print(format_phone_number(\"89211234567\"))"
      ],
      "metadata": {
        "colab": {
          "base_uri": "https://localhost:8080/"
        },
        "id": "DjJX_HrjvOcO",
        "outputId": "2c3082ef-daea-4bad-93c4-0a237f881bd6"
      },
      "execution_count": null,
      "outputs": [
        {
          "output_type": "stream",
          "name": "stdout",
          "text": [
            "+7 (921) 123-45-67\n"
          ]
        }
      ]
    },
    {
      "cell_type": "code",
      "source": [
        "# № 3.1.13 Напишите функцию, которая разбирает строку в формате CSV (CommaSeparated Values) и возвращает список ее полей.\n",
        "def parse_csv_row(csv_row):\n",
        "    \"\"\"Разобрать строку 'csv_row' в формате CSV.\"\"\"\n",
        "\n",
        "    # Разделяем строку по запятым\n",
        "    fields = csv_row.split(',')\n",
        "\n",
        "    return fields\n",
        "\n",
        "\n",
        "row = \"Иванов,Иван,35,Менеджер\"\n",
        "print(parse_csv_row(row))"
      ],
      "metadata": {
        "colab": {
          "base_uri": "https://localhost:8080/"
        },
        "id": "DfEM2qMGvi13",
        "outputId": "d7483b2b-9b4e-4148-ab6a-22162ab4aaf3"
      },
      "execution_count": null,
      "outputs": [
        {
          "output_type": "stream",
          "name": "stdout",
          "text": [
            "['Иванов', 'Иван', '35', 'Менеджер']\n"
          ]
        }
      ]
    },
    {
      "cell_type": "code",
      "source": [
        "# № 3.1.14 Напишите функцию, которая находит самое длинное слово в списке слов.\n",
        "def find_longest_word(words):\n",
        "    \"\"\"Найти самое длинное слово в списке 'words'.\"\"\"\n",
        "\n",
        "    # Инициализируем переменную для хранения самого длинного слова\n",
        "    longest_word = \"\"\n",
        "\n",
        "    # Проходим по всем словам в списке\n",
        "    for word in words:\n",
        "        # Если текущее слово длиннее найденного самого длинного\n",
        "        if len(word) > len(longest_word):\n",
        "            longest_word = word\n",
        "\n",
        "    return longest_word\n",
        "\n",
        "\n",
        "word_list = [\"аналитика\", \"данные\", \"отчет\", \"бизнес\", \"модель\", \"прогнозирование\"]\n",
        "print(find_longest_word(word_list))\n"
      ],
      "metadata": {
        "colab": {
          "base_uri": "https://localhost:8080/"
        },
        "id": "o9d8jD55vv01",
        "outputId": "eca32509-2b7e-4e72-a15b-22beace6848f"
      },
      "execution_count": null,
      "outputs": [
        {
          "output_type": "stream",
          "name": "stdout",
          "text": [
            "прогнозирование\n"
          ]
        }
      ]
    },
    {
      "cell_type": "code",
      "source": [
        "# № 3.1.15 В целях безопасности необходимо маскировать номера кредитных карт. Напишите функцию, которая принимает номер карты (строку из 16 цифр) и\n",
        "# возвращает его в виде, где первые 12 цифр заменены на *.\n",
        "def mask_card_number(card_number):\n",
        "    \"\"\"Замаскировать номер карты 'card_number'.\"\"\"\n",
        "\n",
        "    # Проверяем, что номер состоит из 16 цифр\n",
        "    if len(card_number) != 16 or not card_number.isdigit():\n",
        "        return \"Неверный формат номера карты\"\n",
        "\n",
        "    # Заменяем первые 12 цифр на *, оставляем последние 4\n",
        "    masked = '*' * 12 + card_number[-4:]\n",
        "\n",
        "    return masked\n",
        "\n",
        "\n",
        "print(mask_card_number(\"4567890123456789\"))"
      ],
      "metadata": {
        "colab": {
          "base_uri": "https://localhost:8080/"
        },
        "id": "srgd0D93v-xW",
        "outputId": "78841cbf-f2ec-4c52-b1e6-b0a814f7c0a6"
      },
      "execution_count": null,
      "outputs": [
        {
          "output_type": "stream",
          "name": "stdout",
          "text": [
            "************6789\n"
          ]
        }
      ]
    },
    {
      "cell_type": "code",
      "source": [
        "# № 3.1.16 Напишите функцию, которая сортирует список полных имен (\"Имя Фамилия\") по фамилии.\n",
        "def sort_by_last_name(names):\n",
        "    \"\"\"Отсортировать список 'names' по фамилии.\"\"\"\n",
        "\n",
        "    # Сортируем список по фамилии (второму слову в каждой строке)\n",
        "    sorted_names = sorted(names, key=lambda name: name.split()[1])\n",
        "\n",
        "    return sorted_names\n",
        "\n",
        "\n",
        "name_list = [\"Иван Петров\", \"Анна Сидорова\", \"Петр Иванов\", \"Мария Алексеева\"]\n",
        "print(sort_by_last_name(name_list))"
      ],
      "metadata": {
        "colab": {
          "base_uri": "https://localhost:8080/"
        },
        "id": "fFF78B1VwOfH",
        "outputId": "2d9f4120-6712-476e-be14-109211011ae1"
      },
      "execution_count": null,
      "outputs": [
        {
          "output_type": "stream",
          "name": "stdout",
          "text": [
            "['Мария Алексеева', 'Петр Иванов', 'Иван Петров', 'Анна Сидорова']\n"
          ]
        }
      ]
    },
    {
      "cell_type": "code",
      "source": [
        "# № 3.1.17 Напишите функцию, которая \"сплющивает\" вложенный список (список списков) в один плоский список.\n",
        "def flatten_list(nested_list):\n",
        "    \"\"\"Преобразовать вложенный список 'nested_list' в плоский.\"\"\"\n",
        "    flat_list = []\n",
        "    for sublist in nested_list:\n",
        "        for item in sublist:\n",
        "            # Добавляем каждый элемент в плоский список\n",
        "            flat_list.append(item)\n",
        "\n",
        "    return flat_list\n",
        "\n",
        "matrix = [[1, 2, 3], [4, 5], [6, 7, 8, 9]]\n",
        "print(flatten_list(matrix))"
      ],
      "metadata": {
        "colab": {
          "base_uri": "https://localhost:8080/"
        },
        "id": "285YAdv_wkoy",
        "outputId": "b329c80e-eb4f-4e26-ce8c-bf9faac45900"
      },
      "execution_count": null,
      "outputs": [
        {
          "output_type": "stream",
          "name": "stdout",
          "text": [
            "[1, 2, 3, 4, 5, 6, 7, 8, 9]\n"
          ]
        }
      ]
    },
    {
      "cell_type": "code",
      "source": [
        "# № 3.1.18 Напишите функцию, которая удаляет все знаки препинания из текста.\n",
        "def remove_punctuation(text):\n",
        "    \"\"\"Удалить все знаки препинания из 'text'.\"\"\"\n",
        "    result = \"\"\n",
        "    punctuation = \".,!?;:-()\\\"'\"\n",
        "\n",
        "    # Проходим по каждому символу в тексте\n",
        "    for char in text:\n",
        "        # Если символ не является знаком препинания, добавляем его к результату\n",
        "        if char not in punctuation:\n",
        "            result += char\n",
        "\n",
        "    return result\n",
        "\n",
        "\n",
        "input_text = \"Привет, мир! Как твои дела, Python?\"\n",
        "print(remove_punctuation(input_text))"
      ],
      "metadata": {
        "colab": {
          "base_uri": "https://localhost:8080/"
        },
        "id": "egzvUOZfw5uA",
        "outputId": "46348ae4-693b-49e3-f219-e244b9be65d8"
      },
      "execution_count": null,
      "outputs": [
        {
          "output_type": "stream",
          "name": "stdout",
          "text": [
            "Привет мир Как твои дела Python\n"
          ]
        }
      ]
    },
    {
      "cell_type": "code",
      "source": [
        "# № 3.1.19 Напишите функцию, которая объединяет два списка и возвращает новый отсортированный список без дубликатов.\n",
        "def merge_and_sort_unique(list1, list2):\n",
        "    \"\"\"Объединить два списка 'list1' и 'list2', отсортировать и убрать дубликаты.\"\"\"\n",
        "    merged_list = list1 + list2\n",
        "\n",
        "    # Убираем дубликаты\n",
        "    unique_list = list(set(merged_list))\n",
        "\n",
        "    # Сортируем результат\n",
        "    sorted_list = sorted(unique_list)\n",
        "\n",
        "    return sorted_list\n",
        "\n",
        "\n",
        "list_a = [3, 1, 5, 2, 5]\n",
        "list_b = [8, 2, 4, 1, 6]\n",
        "print(merge_and_sort_unique(list_a, list_b))"
      ],
      "metadata": {
        "colab": {
          "base_uri": "https://localhost:8080/"
        },
        "id": "qzZ2ZbFhxJ4Q",
        "outputId": "bb0dc4b7-a294-4b26-95a6-bbff9acb72a9"
      },
      "execution_count": null,
      "outputs": [
        {
          "output_type": "stream",
          "name": "stdout",
          "text": [
            "[1, 2, 3, 4, 5, 6, 8]\n"
          ]
        }
      ]
    },
    {
      "cell_type": "code",
      "source": [
        "# № 3.1.20 Напишите функцию, которая извлекает все хэштеги (слова, начинающиеся с #) из строки\n",
        "def extract_hashtags(text):\n",
        "    \"\"\"Извлечь хэштеги из текста 'text'.\"\"\"\n",
        "\n",
        "    words = text.split()\n",
        "    hashtags = []\n",
        "\n",
        "    for word in words:\n",
        "        # Проверяем, начинается ли слово с '#'\n",
        "        if word.startswith('#'):\n",
        "            # Добавляем хэштег без символа '#' в начало\n",
        "            hashtags.append(word[1:])\n",
        "\n",
        "    return hashtags\n",
        "\n",
        "\n",
        "post = \"Сегодня отличный день! #python #программирование #бизнесинформатика\"\n",
        "print(extract_hashtags(post))"
      ],
      "metadata": {
        "colab": {
          "base_uri": "https://localhost:8080/"
        },
        "id": "8sa5arNyxZmB",
        "outputId": "63168a41-87bd-46df-a734-20ca05c62e76"
      },
      "execution_count": null,
      "outputs": [
        {
          "output_type": "stream",
          "name": "stdout",
          "text": [
            "['python', 'программирование', 'бизнесинформатика']\n"
          ]
        }
      ]
    }
  ]
}